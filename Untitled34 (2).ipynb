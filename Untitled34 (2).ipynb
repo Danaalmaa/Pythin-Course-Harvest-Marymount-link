{
 "cells": [
  {
   "cell_type": "code",
   "execution_count": 1,
   "id": "e6beca5a-22c3-4363-b58c-9561218eb0a2",
   "metadata": {},
   "outputs": [
    {
     "data": {
      "text/plain": [
       "{'DATA 310',\n",
       " 'DATA 325',\n",
       " 'GMD 231',\n",
       " 'IT 125',\n",
       " 'IT 129',\n",
       " 'IT 130',\n",
       " 'IT 223',\n",
       " 'IT 225',\n",
       " 'IT 227',\n",
       " 'IT 229',\n",
       " 'IT 230',\n",
       " 'IT 310',\n",
       " 'IT 323',\n",
       " 'IT 345',\n",
       " 'IT 423',\n",
       " 'IT 490',\n",
       " 'MGT 123',\n",
       " 'MGT 345'}"
      ]
     },
     "execution_count": 1,
     "metadata": {},
     "output_type": "execute_result"
    }
   ],
   "source": [
    "import requests\n",
    "import re\n",
    "\n",
    "response=requests.get('https://marymount.smartcatalogiq.com/en/2022-2023/catalog/marymount-university-catalog-2022-23/college-of-business-innovation-leadership-and-technology/school-of-technology-and-innovation/undergraduate-degrees/information-technology-bs/')\n",
    "text=response.text\n",
    "classes=re.findall('/en/2021-2022/Catalog/Marymount-University-Catalog-2021-22/Courses/.*/\\d\\d\\d/.*\">(.*)</a></td><td',text)\n",
    "classes\n",
    "set(classes)"
   ]
  },
  {
   "cell_type": "code",
   "execution_count": 2,
   "id": "86294125-c8d0-4017-ab24-716f2ae67c35",
   "metadata": {},
   "outputs": [
    {
     "data": {
      "text/plain": [
       "{'Advanced Java Programming',\n",
       " 'Advanced Python Applications',\n",
       " 'Advanced Web Development',\n",
       " 'Data Analytics',\n",
       " 'Database Technology',\n",
       " 'Decision Analysis',\n",
       " 'Human Computer Interaction',\n",
       " 'IT Internship',\n",
       " 'Intro to UX/UI Design',\n",
       " 'Java Programming',\n",
       " 'Junior IT Seminar',\n",
       " 'Mobile App Development',\n",
       " 'Project Management',\n",
       " 'Python Scripting',\n",
       " 'Senior IT Seminar',\n",
       " 'Sophomore IT Seminar',\n",
       " 'The Business Experience',\n",
       " 'Web Development'}"
      ]
     },
     "execution_count": 2,
     "metadata": {},
     "output_type": "execute_result"
    }
   ],
   "source": [
    "import requests\n",
    "import re\n",
    "\n",
    "response=requests.get('https://marymount.smartcatalogiq.com/en/2022-2023/catalog/marymount-university-catalog-2022-23/college-of-business-innovation-leadership-and-technology/school-of-technology-and-innovation/undergraduate-degrees/information-technology-bs/')\n",
    "text=response.text\n",
    "names=re.findall('/en/2021-2022/Catalog/Marymount-University-Catalog-2021-22/Courses/.*/\\d\\d\\d/.*\">(.*)</td><td',text)\n",
    "names\n",
    "set(names)"
   ]
  },
  {
   "cell_type": "code",
   "execution_count": 20,
   "id": "231d577e-8b18-4f6d-a617-5e8871ac9ccc",
   "metadata": {},
   "outputs": [
    {
     "data": {
      "text/plain": [
       "{'DATA 300',\n",
       " 'DATA 310',\n",
       " 'EN 101',\n",
       " 'EN 102',\n",
       " 'IT 110',\n",
       " 'IT 112',\n",
       " 'IT 120',\n",
       " 'IT 205',\n",
       " 'IT 208',\n",
       " 'IT 210',\n",
       " 'IT 212',\n",
       " 'IT 355',\n",
       " 'IT 489',\n",
       " 'IT 490',\n",
       " 'MA 121',\n",
       " 'MA 132',\n",
       " 'MA 171',\n",
       " 'MA 181',\n",
       " 'MA 218',\n",
       " 'MA 260',\n",
       " 'PH 305',\n",
       " 'PH 305SL',\n",
       " 'PH 313',\n",
       " 'TRS 100'}"
      ]
     },
     "execution_count": 20,
     "metadata": {},
     "output_type": "execute_result"
    }
   ],
   "source": [
    "import requests\n",
    "import re\n",
    "\n",
    "response=requests.get('https://marymount.smartcatalogiq.com/en/2022-2023/catalog/marymount-university-catalog-2022-23/college-of-business-innovation-leadership-and-technology/school-of-technology-and-innovation/undergraduate-degrees/information-technology-bs/')\n",
    "text=response.text\n",
    "classes=re.findall('/en/2022-2023/Catalog/Marymount-University-Catalog-2022-23/Courses/.*/\\d\\d\\d/.*\">(.*)</a></td><td',text)\n",
    "classes\n",
    "set(classes)\n",
    "\n",
    "\n",
    "\n",
    "\n",
    "\n",
    "\n",
    "\n",
    "\n"
   ]
  },
  {
   "cell_type": "code",
   "execution_count": 1,
   "id": "6430e64f-6a40-40c5-b3e0-599ddd34f8e6",
   "metadata": {},
   "outputs": [
    {
     "data": {
      "text/plain": [
       "{' *</span></td><td class=\"sc-credits sc-programtable-column-3',\n",
       " 'Advanced Business Statistics</td><td class=\"sc-credits sc-programtable-column-3',\n",
       " 'Capstone Project</td><td class=\"sc-credits sc-programtable-column-3',\n",
       " 'Computer Networking</td><td class=\"sc-credits sc-programtable-column-3',\n",
       " 'Cybersecurity Principles</td><td class=\"sc-credits sc-programtable-column-3',\n",
       " 'Decision Analysis</td><td class=\"sc-credits sc-programtable-column-3',\n",
       " 'Digital Technology</td><td class=\"sc-credits sc-programtable-column-3',\n",
       " 'IT Internship</td><td class=\"sc-credits sc-programtable-column-3',\n",
       " 'Information Technology in the Global Age</td><td class=\"sc-credits sc-programtable-column-3',\n",
       " 'Introduction to Computer Systems and Architecture</td><td class=\"sc-credits sc-programtable-column-3',\n",
       " 'Software Architecture and Design</td><td class=\"sc-credits sc-programtable-column-3',\n",
       " 'Software Engineering</td><td class=\"sc-credits sc-programtable-column-3',\n",
       " 'Software Testing, Documentation, and Quality Assurance</td><td class=\"sc-credits sc-programtable-column-3'}"
      ]
     },
     "execution_count": 1,
     "metadata": {},
     "output_type": "execute_result"
    }
   ],
   "source": [
    "import requests\n",
    "import re\n",
    "\n",
    "response=requests.get('https://marymount.smartcatalogiq.com/en/2022-2023/catalog/marymount-university-catalog-2022-23/college-of-business-innovation-leadership-and-technology/school-of-technology-and-innovation/undergraduate-degrees/information-technology-bs/')\n",
    "text=response.text\n",
    "names=re.findall('/en/2022-2023/Catalog/Marymount-University-Catalog-2022-23/Courses/.*/\\d\\d\\d/.*\">(.*)\"><p',text)\n",
    "names\n",
    "set(names)\n"
   ]
  },
  {
   "cell_type": "code",
   "execution_count": null,
   "id": "cc2f4550-2b84-4938-a33e-44b1b7175130",
   "metadata": {},
   "outputs": [],
   "source": []
  }
 ],
 "metadata": {
  "kernelspec": {
   "display_name": "Python 3 (ipykernel)",
   "language": "python",
   "name": "python3"
  },
  "language_info": {
   "codemirror_mode": {
    "name": "ipython",
    "version": 3
   },
   "file_extension": ".py",
   "mimetype": "text/x-python",
   "name": "python",
   "nbconvert_exporter": "python",
   "pygments_lexer": "ipython3",
   "version": "3.10.6"
  }
 },
 "nbformat": 4,
 "nbformat_minor": 5
}
